{
 "cells": [
  {
   "cell_type": "markdown",
   "id": "94aa0732",
   "metadata": {},
   "source": [
    "### Financial Analytics Project "
   ]
  },
  {
   "cell_type": "markdown",
   "id": "73848e56",
   "metadata": {},
   "source": [
    "### Importing Libraries and Loading Data "
   ]
  },
  {
   "cell_type": "code",
   "execution_count": 1,
   "id": "4139b69c",
   "metadata": {},
   "outputs": [],
   "source": [
    "import pandas as pd\n",
    "import numpy as np\n",
    "import matplotlib.pyplot as plt\n",
    "import seaborn as sns\n",
    "import scipy as sp\n",
    "import statistics\n",
    "from scipy import stats\n",
    "from numpy import warnings\n",
    "warnings.filterwarnings('ignore')"
   ]
  },
  {
   "cell_type": "code",
   "execution_count": 2,
   "id": "77855ce8",
   "metadata": {},
   "outputs": [
    {
     "data": {
      "text/html": [
       "<div>\n",
       "<style scoped>\n",
       "    .dataframe tbody tr th:only-of-type {\n",
       "        vertical-align: middle;\n",
       "    }\n",
       "\n",
       "    .dataframe tbody tr th {\n",
       "        vertical-align: top;\n",
       "    }\n",
       "\n",
       "    .dataframe thead th {\n",
       "        text-align: right;\n",
       "    }\n",
       "</style>\n",
       "<table border=\"1\" class=\"dataframe\">\n",
       "  <thead>\n",
       "    <tr style=\"text-align: right;\">\n",
       "      <th></th>\n",
       "      <th>S.No.</th>\n",
       "      <th>Name</th>\n",
       "      <th>Mar Cap - Crore</th>\n",
       "      <th>Sales Qtr - Crore</th>\n",
       "      <th>Unnamed: 4</th>\n",
       "    </tr>\n",
       "  </thead>\n",
       "  <tbody>\n",
       "    <tr>\n",
       "      <th>0</th>\n",
       "      <td>1</td>\n",
       "      <td>Reliance Inds.</td>\n",
       "      <td>583436.72</td>\n",
       "      <td>99810.00</td>\n",
       "      <td>NaN</td>\n",
       "    </tr>\n",
       "    <tr>\n",
       "      <th>1</th>\n",
       "      <td>2</td>\n",
       "      <td>TCS</td>\n",
       "      <td>563709.84</td>\n",
       "      <td>30904.00</td>\n",
       "      <td>NaN</td>\n",
       "    </tr>\n",
       "    <tr>\n",
       "      <th>2</th>\n",
       "      <td>3</td>\n",
       "      <td>HDFC Bank</td>\n",
       "      <td>482953.59</td>\n",
       "      <td>20581.27</td>\n",
       "      <td>NaN</td>\n",
       "    </tr>\n",
       "    <tr>\n",
       "      <th>3</th>\n",
       "      <td>4</td>\n",
       "      <td>ITC</td>\n",
       "      <td>320985.27</td>\n",
       "      <td>9772.02</td>\n",
       "      <td>NaN</td>\n",
       "    </tr>\n",
       "    <tr>\n",
       "      <th>4</th>\n",
       "      <td>5</td>\n",
       "      <td>H D F C</td>\n",
       "      <td>289497.37</td>\n",
       "      <td>16840.51</td>\n",
       "      <td>NaN</td>\n",
       "    </tr>\n",
       "    <tr>\n",
       "      <th>...</th>\n",
       "      <td>...</td>\n",
       "      <td>...</td>\n",
       "      <td>...</td>\n",
       "      <td>...</td>\n",
       "      <td>...</td>\n",
       "    </tr>\n",
       "    <tr>\n",
       "      <th>483</th>\n",
       "      <td>496</td>\n",
       "      <td>Lak. Vilas Bank</td>\n",
       "      <td>3029.57</td>\n",
       "      <td>790.17</td>\n",
       "      <td>NaN</td>\n",
       "    </tr>\n",
       "    <tr>\n",
       "      <th>484</th>\n",
       "      <td>497</td>\n",
       "      <td>NOCIL</td>\n",
       "      <td>3026.26</td>\n",
       "      <td>249.27</td>\n",
       "      <td>NaN</td>\n",
       "    </tr>\n",
       "    <tr>\n",
       "      <th>485</th>\n",
       "      <td>498</td>\n",
       "      <td>Orient Cement</td>\n",
       "      <td>3024.32</td>\n",
       "      <td>511.53</td>\n",
       "      <td>NaN</td>\n",
       "    </tr>\n",
       "    <tr>\n",
       "      <th>486</th>\n",
       "      <td>499</td>\n",
       "      <td>Natl.Fertilizer</td>\n",
       "      <td>3017.07</td>\n",
       "      <td>2840.75</td>\n",
       "      <td>NaN</td>\n",
       "    </tr>\n",
       "    <tr>\n",
       "      <th>487</th>\n",
       "      <td>500</td>\n",
       "      <td>L T Foods</td>\n",
       "      <td>NaN</td>\n",
       "      <td>NaN</td>\n",
       "      <td>NaN</td>\n",
       "    </tr>\n",
       "  </tbody>\n",
       "</table>\n",
       "<p>488 rows × 5 columns</p>\n",
       "</div>"
      ],
      "text/plain": [
       "     S.No.             Name  Mar Cap - Crore  Sales Qtr - Crore  Unnamed: 4\n",
       "0        1   Reliance Inds.        583436.72           99810.00         NaN\n",
       "1        2              TCS        563709.84           30904.00         NaN\n",
       "2        3        HDFC Bank        482953.59           20581.27         NaN\n",
       "3        4              ITC        320985.27            9772.02         NaN\n",
       "4        5          H D F C        289497.37           16840.51         NaN\n",
       "..     ...              ...              ...                ...         ...\n",
       "483    496  Lak. Vilas Bank          3029.57             790.17         NaN\n",
       "484    497            NOCIL          3026.26             249.27         NaN\n",
       "485    498    Orient Cement          3024.32             511.53         NaN\n",
       "486    499  Natl.Fertilizer          3017.07            2840.75         NaN\n",
       "487    500        L T Foods              NaN                NaN         NaN\n",
       "\n",
       "[488 rows x 5 columns]"
      ]
     },
     "execution_count": 2,
     "metadata": {},
     "output_type": "execute_result"
    }
   ],
   "source": [
    "data=pd.read_csv(r\"C:\\Users\\Ankita\\Downloads\\Financial Analytics data.csv\")\n",
    "data"
   ]
  },
  {
   "cell_type": "markdown",
   "id": "8a2f0925",
   "metadata": {},
   "source": [
    "### Data understanding "
   ]
  },
  {
   "cell_type": "code",
   "execution_count": 3,
   "id": "40d25905",
   "metadata": {},
   "outputs": [
    {
     "data": {
      "text/plain": [
       "(488, 5)"
      ]
     },
     "execution_count": 3,
     "metadata": {},
     "output_type": "execute_result"
    }
   ],
   "source": [
    "data.shape"
   ]
  },
  {
   "cell_type": "code",
   "execution_count": 4,
   "id": "1a7d6594",
   "metadata": {},
   "outputs": [
    {
     "data": {
      "text/html": [
       "<div>\n",
       "<style scoped>\n",
       "    .dataframe tbody tr th:only-of-type {\n",
       "        vertical-align: middle;\n",
       "    }\n",
       "\n",
       "    .dataframe tbody tr th {\n",
       "        vertical-align: top;\n",
       "    }\n",
       "\n",
       "    .dataframe thead th {\n",
       "        text-align: right;\n",
       "    }\n",
       "</style>\n",
       "<table border=\"1\" class=\"dataframe\">\n",
       "  <thead>\n",
       "    <tr style=\"text-align: right;\">\n",
       "      <th></th>\n",
       "      <th>S.No.</th>\n",
       "      <th>Name</th>\n",
       "      <th>Mar Cap - Crore</th>\n",
       "      <th>Sales Qtr - Crore</th>\n",
       "      <th>Unnamed: 4</th>\n",
       "    </tr>\n",
       "  </thead>\n",
       "  <tbody>\n",
       "    <tr>\n",
       "      <th>0</th>\n",
       "      <td>1</td>\n",
       "      <td>Reliance Inds.</td>\n",
       "      <td>583436.72</td>\n",
       "      <td>99810.00</td>\n",
       "      <td>NaN</td>\n",
       "    </tr>\n",
       "    <tr>\n",
       "      <th>1</th>\n",
       "      <td>2</td>\n",
       "      <td>TCS</td>\n",
       "      <td>563709.84</td>\n",
       "      <td>30904.00</td>\n",
       "      <td>NaN</td>\n",
       "    </tr>\n",
       "    <tr>\n",
       "      <th>2</th>\n",
       "      <td>3</td>\n",
       "      <td>HDFC Bank</td>\n",
       "      <td>482953.59</td>\n",
       "      <td>20581.27</td>\n",
       "      <td>NaN</td>\n",
       "    </tr>\n",
       "    <tr>\n",
       "      <th>3</th>\n",
       "      <td>4</td>\n",
       "      <td>ITC</td>\n",
       "      <td>320985.27</td>\n",
       "      <td>9772.02</td>\n",
       "      <td>NaN</td>\n",
       "    </tr>\n",
       "    <tr>\n",
       "      <th>4</th>\n",
       "      <td>5</td>\n",
       "      <td>H D F C</td>\n",
       "      <td>289497.37</td>\n",
       "      <td>16840.51</td>\n",
       "      <td>NaN</td>\n",
       "    </tr>\n",
       "  </tbody>\n",
       "</table>\n",
       "</div>"
      ],
      "text/plain": [
       "   S.No.            Name  Mar Cap - Crore  Sales Qtr - Crore  Unnamed: 4\n",
       "0      1  Reliance Inds.        583436.72           99810.00         NaN\n",
       "1      2             TCS        563709.84           30904.00         NaN\n",
       "2      3       HDFC Bank        482953.59           20581.27         NaN\n",
       "3      4             ITC        320985.27            9772.02         NaN\n",
       "4      5         H D F C        289497.37           16840.51         NaN"
      ]
     },
     "execution_count": 4,
     "metadata": {},
     "output_type": "execute_result"
    }
   ],
   "source": [
    "data.head()"
   ]
  },
  {
   "cell_type": "code",
   "execution_count": 5,
   "id": "3effca4e",
   "metadata": {},
   "outputs": [
    {
     "data": {
      "text/html": [
       "<div>\n",
       "<style scoped>\n",
       "    .dataframe tbody tr th:only-of-type {\n",
       "        vertical-align: middle;\n",
       "    }\n",
       "\n",
       "    .dataframe tbody tr th {\n",
       "        vertical-align: top;\n",
       "    }\n",
       "\n",
       "    .dataframe thead th {\n",
       "        text-align: right;\n",
       "    }\n",
       "</style>\n",
       "<table border=\"1\" class=\"dataframe\">\n",
       "  <thead>\n",
       "    <tr style=\"text-align: right;\">\n",
       "      <th></th>\n",
       "      <th>S.No.</th>\n",
       "      <th>Name</th>\n",
       "      <th>Mar Cap - Crore</th>\n",
       "      <th>Sales Qtr - Crore</th>\n",
       "      <th>Unnamed: 4</th>\n",
       "    </tr>\n",
       "  </thead>\n",
       "  <tbody>\n",
       "    <tr>\n",
       "      <th>483</th>\n",
       "      <td>496</td>\n",
       "      <td>Lak. Vilas Bank</td>\n",
       "      <td>3029.57</td>\n",
       "      <td>790.17</td>\n",
       "      <td>NaN</td>\n",
       "    </tr>\n",
       "    <tr>\n",
       "      <th>484</th>\n",
       "      <td>497</td>\n",
       "      <td>NOCIL</td>\n",
       "      <td>3026.26</td>\n",
       "      <td>249.27</td>\n",
       "      <td>NaN</td>\n",
       "    </tr>\n",
       "    <tr>\n",
       "      <th>485</th>\n",
       "      <td>498</td>\n",
       "      <td>Orient Cement</td>\n",
       "      <td>3024.32</td>\n",
       "      <td>511.53</td>\n",
       "      <td>NaN</td>\n",
       "    </tr>\n",
       "    <tr>\n",
       "      <th>486</th>\n",
       "      <td>499</td>\n",
       "      <td>Natl.Fertilizer</td>\n",
       "      <td>3017.07</td>\n",
       "      <td>2840.75</td>\n",
       "      <td>NaN</td>\n",
       "    </tr>\n",
       "    <tr>\n",
       "      <th>487</th>\n",
       "      <td>500</td>\n",
       "      <td>L T Foods</td>\n",
       "      <td>NaN</td>\n",
       "      <td>NaN</td>\n",
       "      <td>NaN</td>\n",
       "    </tr>\n",
       "  </tbody>\n",
       "</table>\n",
       "</div>"
      ],
      "text/plain": [
       "     S.No.             Name  Mar Cap - Crore  Sales Qtr - Crore  Unnamed: 4\n",
       "483    496  Lak. Vilas Bank          3029.57             790.17         NaN\n",
       "484    497            NOCIL          3026.26             249.27         NaN\n",
       "485    498    Orient Cement          3024.32             511.53         NaN\n",
       "486    499  Natl.Fertilizer          3017.07            2840.75         NaN\n",
       "487    500        L T Foods              NaN                NaN         NaN"
      ]
     },
     "execution_count": 5,
     "metadata": {},
     "output_type": "execute_result"
    }
   ],
   "source": [
    "data.tail()"
   ]
  },
  {
   "cell_type": "code",
   "execution_count": 6,
   "id": "97505e06",
   "metadata": {},
   "outputs": [
    {
     "data": {
      "text/plain": [
       "Index(['S.No.', 'Name', 'Mar Cap - Crore', 'Sales Qtr - Crore', 'Unnamed: 4'], dtype='object')"
      ]
     },
     "execution_count": 6,
     "metadata": {},
     "output_type": "execute_result"
    }
   ],
   "source": [
    "data.columns"
   ]
  },
  {
   "cell_type": "markdown",
   "id": "0dd84d62",
   "metadata": {},
   "source": [
    "### Basic Statistics "
   ]
  },
  {
   "cell_type": "code",
   "execution_count": 7,
   "id": "30c27046",
   "metadata": {},
   "outputs": [
    {
     "data": {
      "text/plain": [
       "S.No.                  0\n",
       "Name                   0\n",
       "Mar Cap - Crore        9\n",
       "Sales Qtr - Crore    123\n",
       "Unnamed: 4           394\n",
       "dtype: int64"
      ]
     },
     "execution_count": 7,
     "metadata": {},
     "output_type": "execute_result"
    }
   ],
   "source": [
    "data.isnull().sum()"
   ]
  },
  {
   "cell_type": "code",
   "execution_count": 8,
   "id": "53d98855",
   "metadata": {},
   "outputs": [
    {
     "data": {
      "text/plain": [
       "S.No.                  int64\n",
       "Name                  object\n",
       "Mar Cap - Crore      float64\n",
       "Sales Qtr - Crore    float64\n",
       "Unnamed: 4           float64\n",
       "dtype: object"
      ]
     },
     "execution_count": 8,
     "metadata": {},
     "output_type": "execute_result"
    }
   ],
   "source": [
    "\n",
    "data.dtypes"
   ]
  },
  {
   "cell_type": "code",
   "execution_count": 9,
   "id": "a3765886",
   "metadata": {},
   "outputs": [
    {
     "name": "stdout",
     "output_type": "stream",
     "text": [
      "<class 'pandas.core.frame.DataFrame'>\n",
      "RangeIndex: 488 entries, 0 to 487\n",
      "Data columns (total 5 columns):\n",
      " #   Column             Non-Null Count  Dtype  \n",
      "---  ------             --------------  -----  \n",
      " 0   S.No.              488 non-null    int64  \n",
      " 1   Name               488 non-null    object \n",
      " 2   Mar Cap - Crore    479 non-null    float64\n",
      " 3   Sales Qtr - Crore  365 non-null    float64\n",
      " 4   Unnamed: 4         94 non-null     float64\n",
      "dtypes: float64(3), int64(1), object(1)\n",
      "memory usage: 19.2+ KB\n"
     ]
    }
   ],
   "source": [
    "data.info()"
   ]
  },
  {
   "cell_type": "code",
   "execution_count": 10,
   "id": "3f9a6792",
   "metadata": {},
   "outputs": [
    {
     "data": {
      "text/html": [
       "<div>\n",
       "<style scoped>\n",
       "    .dataframe tbody tr th:only-of-type {\n",
       "        vertical-align: middle;\n",
       "    }\n",
       "\n",
       "    .dataframe tbody tr th {\n",
       "        vertical-align: top;\n",
       "    }\n",
       "\n",
       "    .dataframe thead th {\n",
       "        text-align: right;\n",
       "    }\n",
       "</style>\n",
       "<table border=\"1\" class=\"dataframe\">\n",
       "  <thead>\n",
       "    <tr style=\"text-align: right;\">\n",
       "      <th></th>\n",
       "      <th>S.No.</th>\n",
       "      <th>Mar Cap - Crore</th>\n",
       "      <th>Sales Qtr - Crore</th>\n",
       "      <th>Unnamed: 4</th>\n",
       "    </tr>\n",
       "  </thead>\n",
       "  <tbody>\n",
       "    <tr>\n",
       "      <th>count</th>\n",
       "      <td>488.000000</td>\n",
       "      <td>479.000000</td>\n",
       "      <td>365.000000</td>\n",
       "      <td>94.000000</td>\n",
       "    </tr>\n",
       "    <tr>\n",
       "      <th>mean</th>\n",
       "      <td>251.508197</td>\n",
       "      <td>28043.857119</td>\n",
       "      <td>4395.976849</td>\n",
       "      <td>1523.870106</td>\n",
       "    </tr>\n",
       "    <tr>\n",
       "      <th>std</th>\n",
       "      <td>145.884078</td>\n",
       "      <td>59464.615831</td>\n",
       "      <td>11092.206185</td>\n",
       "      <td>1800.008836</td>\n",
       "    </tr>\n",
       "    <tr>\n",
       "      <th>min</th>\n",
       "      <td>1.000000</td>\n",
       "      <td>3017.070000</td>\n",
       "      <td>47.240000</td>\n",
       "      <td>0.000000</td>\n",
       "    </tr>\n",
       "    <tr>\n",
       "      <th>25%</th>\n",
       "      <td>122.750000</td>\n",
       "      <td>4843.575000</td>\n",
       "      <td>593.740000</td>\n",
       "      <td>407.167500</td>\n",
       "    </tr>\n",
       "    <tr>\n",
       "      <th>50%</th>\n",
       "      <td>252.500000</td>\n",
       "      <td>9885.050000</td>\n",
       "      <td>1278.300000</td>\n",
       "      <td>702.325000</td>\n",
       "    </tr>\n",
       "    <tr>\n",
       "      <th>75%</th>\n",
       "      <td>378.250000</td>\n",
       "      <td>23549.900000</td>\n",
       "      <td>2840.750000</td>\n",
       "      <td>2234.815000</td>\n",
       "    </tr>\n",
       "    <tr>\n",
       "      <th>max</th>\n",
       "      <td>500.000000</td>\n",
       "      <td>583436.720000</td>\n",
       "      <td>110666.930000</td>\n",
       "      <td>7757.060000</td>\n",
       "    </tr>\n",
       "  </tbody>\n",
       "</table>\n",
       "</div>"
      ],
      "text/plain": [
       "            S.No.  Mar Cap - Crore  Sales Qtr - Crore   Unnamed: 4\n",
       "count  488.000000       479.000000         365.000000    94.000000\n",
       "mean   251.508197     28043.857119        4395.976849  1523.870106\n",
       "std    145.884078     59464.615831       11092.206185  1800.008836\n",
       "min      1.000000      3017.070000          47.240000     0.000000\n",
       "25%    122.750000      4843.575000         593.740000   407.167500\n",
       "50%    252.500000      9885.050000        1278.300000   702.325000\n",
       "75%    378.250000     23549.900000        2840.750000  2234.815000\n",
       "max    500.000000    583436.720000      110666.930000  7757.060000"
      ]
     },
     "execution_count": 10,
     "metadata": {},
     "output_type": "execute_result"
    }
   ],
   "source": [
    "data.describe()"
   ]
  },
  {
   "cell_type": "markdown",
   "id": "676ba785",
   "metadata": {},
   "source": [
    "### Data Cleaning "
   ]
  },
  {
   "cell_type": "code",
   "execution_count": 11,
   "id": "0444a5a7",
   "metadata": {},
   "outputs": [],
   "source": [
    "data.drop('S.No.',axis=1,inplace=True)"
   ]
  },
  {
   "cell_type": "code",
   "execution_count": 12,
   "id": "8769d95e",
   "metadata": {},
   "outputs": [],
   "source": [
    "#dropping the unknown column , it has more than 50 % missing values.\n",
    "data.drop('Unnamed: 4',axis=1,inplace=True)"
   ]
  },
  {
   "cell_type": "code",
   "execution_count": 13,
   "id": "32189c0c",
   "metadata": {},
   "outputs": [
    {
     "data": {
      "text/plain": [
       "Index(['Name', 'Mar Cap - Crore', 'Sales Qtr - Crore'], dtype='object')"
      ]
     },
     "execution_count": 13,
     "metadata": {},
     "output_type": "execute_result"
    }
   ],
   "source": [
    "data.columns"
   ]
  },
  {
   "cell_type": "code",
   "execution_count": 14,
   "id": "c5d72b2a",
   "metadata": {},
   "outputs": [
    {
     "data": {
      "text/html": [
       "<div>\n",
       "<style scoped>\n",
       "    .dataframe tbody tr th:only-of-type {\n",
       "        vertical-align: middle;\n",
       "    }\n",
       "\n",
       "    .dataframe tbody tr th {\n",
       "        vertical-align: top;\n",
       "    }\n",
       "\n",
       "    .dataframe thead th {\n",
       "        text-align: right;\n",
       "    }\n",
       "</style>\n",
       "<table border=\"1\" class=\"dataframe\">\n",
       "  <thead>\n",
       "    <tr style=\"text-align: right;\">\n",
       "      <th></th>\n",
       "      <th>Name</th>\n",
       "      <th>Mar Cap - Crore</th>\n",
       "      <th>Sales Qtr - Crore</th>\n",
       "    </tr>\n",
       "  </thead>\n",
       "  <tbody>\n",
       "    <tr>\n",
       "      <th>0</th>\n",
       "      <td>Reliance Inds.</td>\n",
       "      <td>583436.72</td>\n",
       "      <td>99810.00</td>\n",
       "    </tr>\n",
       "    <tr>\n",
       "      <th>1</th>\n",
       "      <td>TCS</td>\n",
       "      <td>563709.84</td>\n",
       "      <td>30904.00</td>\n",
       "    </tr>\n",
       "    <tr>\n",
       "      <th>2</th>\n",
       "      <td>HDFC Bank</td>\n",
       "      <td>482953.59</td>\n",
       "      <td>20581.27</td>\n",
       "    </tr>\n",
       "    <tr>\n",
       "      <th>3</th>\n",
       "      <td>ITC</td>\n",
       "      <td>320985.27</td>\n",
       "      <td>9772.02</td>\n",
       "    </tr>\n",
       "    <tr>\n",
       "      <th>4</th>\n",
       "      <td>H D F C</td>\n",
       "      <td>289497.37</td>\n",
       "      <td>16840.51</td>\n",
       "    </tr>\n",
       "    <tr>\n",
       "      <th>...</th>\n",
       "      <td>...</td>\n",
       "      <td>...</td>\n",
       "      <td>...</td>\n",
       "    </tr>\n",
       "    <tr>\n",
       "      <th>483</th>\n",
       "      <td>Lak. Vilas Bank</td>\n",
       "      <td>3029.57</td>\n",
       "      <td>790.17</td>\n",
       "    </tr>\n",
       "    <tr>\n",
       "      <th>484</th>\n",
       "      <td>NOCIL</td>\n",
       "      <td>3026.26</td>\n",
       "      <td>249.27</td>\n",
       "    </tr>\n",
       "    <tr>\n",
       "      <th>485</th>\n",
       "      <td>Orient Cement</td>\n",
       "      <td>3024.32</td>\n",
       "      <td>511.53</td>\n",
       "    </tr>\n",
       "    <tr>\n",
       "      <th>486</th>\n",
       "      <td>Natl.Fertilizer</td>\n",
       "      <td>3017.07</td>\n",
       "      <td>2840.75</td>\n",
       "    </tr>\n",
       "    <tr>\n",
       "      <th>487</th>\n",
       "      <td>L T Foods</td>\n",
       "      <td>NaN</td>\n",
       "      <td>NaN</td>\n",
       "    </tr>\n",
       "  </tbody>\n",
       "</table>\n",
       "<p>488 rows × 3 columns</p>\n",
       "</div>"
      ],
      "text/plain": [
       "                Name  Mar Cap - Crore  Sales Qtr - Crore\n",
       "0     Reliance Inds.        583436.72           99810.00\n",
       "1                TCS        563709.84           30904.00\n",
       "2          HDFC Bank        482953.59           20581.27\n",
       "3                ITC        320985.27            9772.02\n",
       "4            H D F C        289497.37           16840.51\n",
       "..               ...              ...                ...\n",
       "483  Lak. Vilas Bank          3029.57             790.17\n",
       "484            NOCIL          3026.26             249.27\n",
       "485    Orient Cement          3024.32             511.53\n",
       "486  Natl.Fertilizer          3017.07            2840.75\n",
       "487        L T Foods              NaN                NaN\n",
       "\n",
       "[488 rows x 3 columns]"
      ]
     },
     "execution_count": 14,
     "metadata": {},
     "output_type": "execute_result"
    }
   ],
   "source": [
    "data"
   ]
  },
  {
   "cell_type": "code",
   "execution_count": 15,
   "id": "c5b42e60",
   "metadata": {},
   "outputs": [
    {
     "data": {
      "text/plain": [
       "Name                   0\n",
       "Mar Cap - Crore        9\n",
       "Sales Qtr - Crore    123\n",
       "dtype: int64"
      ]
     },
     "execution_count": 15,
     "metadata": {},
     "output_type": "execute_result"
    }
   ],
   "source": [
    "data.isnull().sum()"
   ]
  },
  {
   "cell_type": "code",
   "execution_count": 16,
   "id": "cb2803d9",
   "metadata": {},
   "outputs": [],
   "source": [
    "\n",
    "#the column Mar Cap - Crore has very less missing values. \n",
    "#the column Sales Qtr - Crore has 25% missing values which is significantly less and to be concerned.\n",
    "#since total observations in our dataset is very less,and without losing information from data i am imputing the columns.\n"
   ]
  },
  {
   "cell_type": "code",
   "execution_count": 17,
   "id": "5ce6652b",
   "metadata": {},
   "outputs": [],
   "source": [
    "# missing value treatment (imputation technique)\n",
    "data['Mar Cap - Crore'].fillna(data['Mar Cap - Crore'].median(),inplace=True)\n",
    "data['Sales Qtr - Crore'].fillna(data['Sales Qtr - Crore'].median(),inplace=True)"
   ]
  },
  {
   "cell_type": "code",
   "execution_count": 18,
   "id": "cbc374c0",
   "metadata": {},
   "outputs": [
    {
     "data": {
      "text/plain": [
       "Name                 0\n",
       "Mar Cap - Crore      0\n",
       "Sales Qtr - Crore    0\n",
       "dtype: int64"
      ]
     },
     "execution_count": 18,
     "metadata": {},
     "output_type": "execute_result"
    }
   ],
   "source": [
    "data.isnull().sum()"
   ]
  },
  {
   "cell_type": "markdown",
   "id": "96b26997",
   "metadata": {},
   "source": [
    "### Data visualisation"
   ]
  },
  {
   "cell_type": "code",
   "execution_count": 19,
   "id": "2b903b9b",
   "metadata": {},
   "outputs": [
    {
     "data": {
      "image/png": "[encoded data removed]",
      "text/plain": [
       "<Figure size 864x720 with 1 Axes>"
      ]
     },
     "metadata": {
      "needs_background": "light"
     },
     "output_type": "display_data"
    }
   ],
   "source": [
    "#  scatter plot\n",
    "plt.figure(figsize=(12,10))\n",
    "sns.scatterplot(data=data,x='Mar Cap - Crore',y='Sales Qtr - Crore')\n",
    "plt.show()\n"
   ]
  },
  {
   "cell_type": "markdown",
   "id": "79191205",
   "metadata": {},
   "source": [
    "#####  from this graph we observed that there is positive correlation between Market Capitalization and Quarterly Sales"
   ]
  },
  {
   "cell_type": "code",
   "execution_count": 20,
   "id": "efaff59f",
   "metadata": {},
   "outputs": [
    {
     "data": {
      "image/png": "[encoded data removed]",
      "text/plain": [
       "<Figure size 864x432 with 1 Axes>"
      ]
     },
     "metadata": {
      "needs_background": "light"
     },
     "output_type": "display_data"
    }
   ],
   "source": [
    "# plotting market capitalization in crores vs quarterly sales \n",
    "plt.figure(figsize=(12, 6))\n",
    "plt.plot(data['Mar Cap - Crore'],data['Sales Qtr - Crore'],marker='o' ,color='skyblue')\n",
    "plt.title('Market capitalization vs Quarterly sales')\n",
    "plt.xlabel('Market Capitalization in Crore ')\n",
    "plt.ylabel('Quarterly Sales in crore')\n",
    "plt.grid(True)\n",
    "plt.show()"
   ]
  },
  {
   "cell_type": "markdown",
   "id": "f7dd0048",
   "metadata": {},
   "source": [
    "##### this plot shows the fluctuating pattern in Market Capitalisation changes in Quarterly sales indiactes dynamic market conditions and complex relationships between buisness performances ."
   ]
  },
  {
   "cell_type": "code",
   "execution_count": 21,
   "id": "73da2246",
   "metadata": {},
   "outputs": [
    {
     "data": {
      "image/png": "[encoded data removed]",
      "text/plain": [
       "<Figure size 864x432 with 1 Axes>"
      ]
     },
     "metadata": {
      "needs_background": "light"
     },
     "output_type": "display_data"
    }
   ],
   "source": [
    "# Specify the top N companies\n",
    "top_n = 10 \n",
    "\n",
    "\n",
    "# Select the top N companies based on Market Capitalization\n",
    "top_companies = data.nlargest(top_n, 'Mar Cap - Crore')\n",
    "\n",
    "# Create a bar plot\n",
    "plt.figure(figsize=(12, 6))\n",
    "plt.bar(top_companies['Name'], top_companies['Mar Cap - Crore'], color='skyblue')\n",
    "plt.title(f'Top {top_n} Companies by Mar Cap - Crore')\n",
    "plt.xlabel('Name')\n",
    "plt.ylabel('Mar Cap - Crore')\n",
    "plt.xticks(rotation=45, ha='right')\n",
    "plt.show()"
   ]
  },
  {
   "cell_type": "markdown",
   "id": "8c8df856",
   "metadata": {},
   "source": [
    "##### Among the top 10 companies Reliance Inds.,TCS ,HDFC Bank have the highest market capitalization . "
   ]
  },
  {
   "cell_type": "code",
   "execution_count": 22,
   "id": "d839f089",
   "metadata": {},
   "outputs": [
    {
     "data": {
      "image/png": "[encoded data removed]",
      "text/plain": [
       "<Figure size 864x432 with 1 Axes>"
      ]
     },
     "metadata": {
      "needs_background": "light"
     },
     "output_type": "display_data"
    }
   ],
   "source": [
    "# Create a bar plot\n",
    "plt.figure(figsize=(12, 6))\n",
    "plt.bar(top_companies['Name'], top_companies['Sales Qtr - Crore'], color='skyblue')\n",
    "plt.title(f'Top {top_n} Companies by Quarterly sales')\n",
    "plt.xlabel('Name')\n",
    "plt.ylabel('Sales Qtr - Crore')\n",
    "plt.xticks(rotation=45, ha='right')\n",
    "plt.show()"
   ]
  },
  {
   "cell_type": "markdown",
   "id": "d02301da",
   "metadata": {},
   "source": [
    "##### Among the top 10 companies Reliance Inds. have the highest Quarterly Sales. "
   ]
  },
  {
   "cell_type": "code",
   "execution_count": 23,
   "id": "90b135ca",
   "metadata": {},
   "outputs": [
    {
     "data": {
      "image/png": "[encoded data removed]",
      "text/plain": [
       "<Figure size 864x720 with 1 Axes>"
      ]
     },
     "metadata": {
      "needs_background": "light"
     },
     "output_type": "display_data"
    }
   ],
   "source": [
    "\n",
    "plt.figure(figsize=(12,10))\n",
    "sns.lineplot(data=data,x='Mar Cap - Crore',y='Sales Qtr - Crore')\n",
    "plt.show()"
   ]
  },
  {
   "cell_type": "markdown",
   "id": "5e7214ba",
   "metadata": {},
   "source": [
    "### Exploratory Data Analysis (EDA) "
   ]
  },
  {
   "cell_type": "code",
   "execution_count": 24,
   "id": "e01bd120",
   "metadata": {},
   "outputs": [
    {
     "data": {
      "image/png": "[encoded data removed]",
      "text/plain": [
       "<Figure size 864x432 with 2 Axes>"
      ]
     },
     "metadata": {
      "needs_background": "light"
     },
     "output_type": "display_data"
    }
   ],
   "source": [
    "#histogram\n",
    "variable1 = 'Mar Cap - Crore'\n",
    "variable2 = 'Sales Qtr - Crore'\n",
    "\n",
    "plt.figure(figsize=(12, 6))\n",
    "\n",
    "plt.subplot(1, 2, 1)\n",
    "plt.hist(data[variable1].dropna(), bins=30, color='red', alpha=0.7)\n",
    "plt.title(f'Distribution of {variable1}')\n",
    "plt.xlabel(variable1)\n",
    "plt.ylabel('Frequency')\n",
    "\n",
    "\n",
    "plt.subplot(1, 2, 2)\n",
    "plt.hist(data[variable2].dropna(), bins=30, color='magenta', alpha=0.7)\n",
    "plt.title(f'Distribution of{variable2}')\n",
    "plt.xlabel(variable2)\n",
    "plt.ylabel('Frequency')\n",
    "\n",
    "plt.show()"
   ]
  },
  {
   "cell_type": "markdown",
   "id": "86ee5241",
   "metadata": {},
   "source": [
    "#### The distributions of Market Capitalization and Quarterly Sales are Right Skewed."
   ]
  },
  {
   "cell_type": "markdown",
   "id": "7d3eb8f3",
   "metadata": {},
   "source": [
    "#####  "
   ]
  },
  {
   "cell_type": "code",
   "execution_count": 25,
   "id": "d9d7bef1",
   "metadata": {},
   "outputs": [
    {
     "data": {
      "text/html": [
       "<div>\n",
       "<style scoped>\n",
       "    .dataframe tbody tr th:only-of-type {\n",
       "        vertical-align: middle;\n",
       "    }\n",
       "\n",
       "    .dataframe tbody tr th {\n",
       "        vertical-align: top;\n",
       "    }\n",
       "\n",
       "    .dataframe thead th {\n",
       "        text-align: right;\n",
       "    }\n",
       "</style>\n",
       "<table border=\"1\" class=\"dataframe\">\n",
       "  <thead>\n",
       "    <tr style=\"text-align: right;\">\n",
       "      <th></th>\n",
       "      <th>Mar Cap - Crore</th>\n",
       "      <th>Sales Qtr - Crore</th>\n",
       "    </tr>\n",
       "  </thead>\n",
       "  <tbody>\n",
       "    <tr>\n",
       "      <th>Mar Cap - Crore</th>\n",
       "      <td>1.000000</td>\n",
       "      <td>0.620489</td>\n",
       "    </tr>\n",
       "    <tr>\n",
       "      <th>Sales Qtr - Crore</th>\n",
       "      <td>0.620489</td>\n",
       "      <td>1.000000</td>\n",
       "    </tr>\n",
       "  </tbody>\n",
       "</table>\n",
       "</div>"
      ],
      "text/plain": [
       "                   Mar Cap - Crore  Sales Qtr - Crore\n",
       "Mar Cap - Crore           1.000000           0.620489\n",
       "Sales Qtr - Crore         0.620489           1.000000"
      ]
     },
     "execution_count": 25,
     "metadata": {},
     "output_type": "execute_result"
    }
   ],
   "source": [
    "data1=data.corr()\n",
    "data1"
   ]
  },
  {
   "cell_type": "code",
   "execution_count": 26,
   "id": "3b6ab1e1",
   "metadata": {},
   "outputs": [
    {
     "data": {
      "image/png": "[encoded data removed]",
      "text/plain": [
       "<Figure size 720x720 with 2 Axes>"
      ]
     },
     "metadata": {
      "needs_background": "light"
     },
     "output_type": "display_data"
    }
   ],
   "source": [
    "plt.figure(figsize=(10,10))\n",
    "#heatmap=sns.heatmap(data1,linewidth=1,annot=True,cmap=plt.cm.Blues)\n",
    "heatmap=sns.heatmap(data1,cmap=\"coolwarm\",annot=True)\n",
    "plt.title(\"Heatmap using Seaborn Method\")\n",
    "plt.show()"
   ]
  },
  {
   "cell_type": "markdown",
   "id": "18cde5ca",
   "metadata": {},
   "source": [
    "###### the column  Mar Cap - Crore\t(market capitalisation in crore) have significantly high correlation as 0.62 with the other column  Sales Qtr - Crore (quarterly sales in crore)"
   ]
  },
  {
   "cell_type": "code",
   "execution_count": 27,
   "id": "b85748f5",
   "metadata": {},
   "outputs": [
    {
     "data": {
      "image/png": "[encoded data removed]",
      "text/plain": [
       "<Figure size 1440x720 with 1 Axes>"
      ]
     },
     "metadata": {
      "needs_background": "light"
     },
     "output_type": "display_data"
    }
   ],
   "source": [
    "# boxplot\n",
    "plt.figure(figsize=(20,10))\n",
    "sns.boxplot(data=data)\n",
    "plt.show()"
   ]
  },
  {
   "cell_type": "markdown",
   "id": "49dbac8b",
   "metadata": {},
   "source": [
    "#### The box plot  for Market Capitalization and Quarterly Sales reveals presence of outliers in the data."
   ]
  },
  {
   "cell_type": "code",
   "execution_count": 28,
   "id": "4c07c845",
   "metadata": {},
   "outputs": [
    {
     "data": {
      "image/png": "[encoded data removed]",
      "text/plain": [
       "<Figure size 720x720 with 1 Axes>"
      ]
     },
     "metadata": {
      "needs_background": "light"
     },
     "output_type": "display_data"
    }
   ],
   "source": [
    "plt.figure(figsize=(10,10))\n",
    "sns.distplot(a=data['Mar Cap - Crore'],color='red')\n",
    "plt.show()"
   ]
  },
  {
   "cell_type": "code",
   "execution_count": 29,
   "id": "479bb5aa",
   "metadata": {},
   "outputs": [
    {
     "data": {
      "image/png": "[encoded data removed]",
      "text/plain": [
       "<Figure size 720x720 with 1 Axes>"
      ]
     },
     "metadata": {
      "needs_background": "light"
     },
     "output_type": "display_data"
    }
   ],
   "source": [
    "plt.figure(figsize=(10,10))\n",
    "sns.distplot(a=data['Sales Qtr - Crore'],color='red')\n",
    "plt.show()"
   ]
  },
  {
   "cell_type": "markdown",
   "id": "762045f0",
   "metadata": {},
   "source": [
    "### outlier detection "
   ]
  },
  {
   "cell_type": "code",
   "execution_count": 30,
   "id": "7cc8fe3f",
   "metadata": {},
   "outputs": [
    {
     "data": {
      "text/plain": [
       "Mar Cap - Crore      18521.2025\n",
       "Sales Qtr - Crore     1358.3650\n",
       "dtype: float64"
      ]
     },
     "execution_count": 30,
     "metadata": {},
     "output_type": "execute_result"
    }
   ],
   "source": [
    "#IQR method\n",
    "q1=data.quantile(0.25)\n",
    "q3=data.quantile(0.75)\n",
    "IQR=q3-q1\n",
    "IQR\n"
   ]
  },
  {
   "cell_type": "code",
   "execution_count": 31,
   "id": "29e92240",
   "metadata": {},
   "outputs": [],
   "source": [
    "l1=q1-(1.5*IQR)\n",
    "u1=q1+(1.5*IQR)"
   ]
  },
  {
   "cell_type": "code",
   "execution_count": 32,
   "id": "1b85658d",
   "metadata": {},
   "outputs": [
    {
     "data": {
      "text/html": [
       "<div>\n",
       "<style scoped>\n",
       "    .dataframe tbody tr th:only-of-type {\n",
       "        vertical-align: middle;\n",
       "    }\n",
       "\n",
       "    .dataframe tbody tr th {\n",
       "        vertical-align: top;\n",
       "    }\n",
       "\n",
       "    .dataframe thead th {\n",
       "        text-align: right;\n",
       "    }\n",
       "</style>\n",
       "<table border=\"1\" class=\"dataframe\">\n",
       "  <thead>\n",
       "    <tr style=\"text-align: right;\">\n",
       "      <th></th>\n",
       "      <th>Name</th>\n",
       "      <th>Mar Cap - Crore</th>\n",
       "      <th>Sales Qtr - Crore</th>\n",
       "    </tr>\n",
       "  </thead>\n",
       "  <tbody>\n",
       "    <tr>\n",
       "      <th>0</th>\n",
       "      <td>Reliance Inds.</td>\n",
       "      <td>583436.72</td>\n",
       "      <td>99810.00</td>\n",
       "    </tr>\n",
       "    <tr>\n",
       "      <th>1</th>\n",
       "      <td>TCS</td>\n",
       "      <td>563709.84</td>\n",
       "      <td>30904.00</td>\n",
       "    </tr>\n",
       "    <tr>\n",
       "      <th>2</th>\n",
       "      <td>HDFC Bank</td>\n",
       "      <td>482953.59</td>\n",
       "      <td>20581.27</td>\n",
       "    </tr>\n",
       "    <tr>\n",
       "      <th>3</th>\n",
       "      <td>ITC</td>\n",
       "      <td>320985.27</td>\n",
       "      <td>9772.02</td>\n",
       "    </tr>\n",
       "    <tr>\n",
       "      <th>4</th>\n",
       "      <td>H D F C</td>\n",
       "      <td>289497.37</td>\n",
       "      <td>16840.51</td>\n",
       "    </tr>\n",
       "    <tr>\n",
       "      <th>...</th>\n",
       "      <td>...</td>\n",
       "      <td>...</td>\n",
       "      <td>...</td>\n",
       "    </tr>\n",
       "    <tr>\n",
       "      <th>405</th>\n",
       "      <td>Allahabad Bank</td>\n",
       "      <td>4137.11</td>\n",
       "      <td>4243.83</td>\n",
       "    </tr>\n",
       "    <tr>\n",
       "      <th>410</th>\n",
       "      <td>Andhra Bank</td>\n",
       "      <td>4067.25</td>\n",
       "      <td>4549.26</td>\n",
       "    </tr>\n",
       "    <tr>\n",
       "      <th>441</th>\n",
       "      <td>Corporation Bank</td>\n",
       "      <td>3716.46</td>\n",
       "      <td>4387.85</td>\n",
       "    </tr>\n",
       "    <tr>\n",
       "      <th>444</th>\n",
       "      <td>Oriental Bank</td>\n",
       "      <td>3674.60</td>\n",
       "      <td>4262.08</td>\n",
       "    </tr>\n",
       "    <tr>\n",
       "      <th>486</th>\n",
       "      <td>Natl.Fertilizer</td>\n",
       "      <td>3017.07</td>\n",
       "      <td>2840.75</td>\n",
       "    </tr>\n",
       "  </tbody>\n",
       "</table>\n",
       "<p>131 rows × 3 columns</p>\n",
       "</div>"
      ],
      "text/plain": [
       "                 Name  Mar Cap - Crore  Sales Qtr - Crore\n",
       "0      Reliance Inds.        583436.72           99810.00\n",
       "1                 TCS        563709.84           30904.00\n",
       "2           HDFC Bank        482953.59           20581.27\n",
       "3                 ITC        320985.27            9772.02\n",
       "4             H D F C        289497.37           16840.51\n",
       "..                ...              ...                ...\n",
       "405    Allahabad Bank          4137.11            4243.83\n",
       "410       Andhra Bank          4067.25            4549.26\n",
       "441  Corporation Bank          3716.46            4387.85\n",
       "444     Oriental Bank          3674.60            4262.08\n",
       "486   Natl.Fertilizer          3017.07            2840.75\n",
       "\n",
       "[131 rows x 3 columns]"
      ]
     },
     "execution_count": 32,
     "metadata": {},
     "output_type": "execute_result"
    }
   ],
   "source": [
    "# removing outliers\n",
    "outlier=data[((data<l1)|(data>u1)).any(axis=1)]\n",
    "outlier"
   ]
  },
  {
   "cell_type": "code",
   "execution_count": 33,
   "id": "d4f2e849",
   "metadata": {},
   "outputs": [
    {
     "data": {
      "text/html": [
       "<div>\n",
       "<style scoped>\n",
       "    .dataframe tbody tr th:only-of-type {\n",
       "        vertical-align: middle;\n",
       "    }\n",
       "\n",
       "    .dataframe tbody tr th {\n",
       "        vertical-align: top;\n",
       "    }\n",
       "\n",
       "    .dataframe thead th {\n",
       "        text-align: right;\n",
       "    }\n",
       "</style>\n",
       "<table border=\"1\" class=\"dataframe\">\n",
       "  <thead>\n",
       "    <tr style=\"text-align: right;\">\n",
       "      <th></th>\n",
       "      <th>Mar Cap - Crore</th>\n",
       "      <th>Sales Qtr - Crore</th>\n",
       "    </tr>\n",
       "  </thead>\n",
       "  <tbody>\n",
       "    <tr>\n",
       "      <th>Mar Cap - Crore</th>\n",
       "      <td>1.000000</td>\n",
       "      <td>0.620489</td>\n",
       "    </tr>\n",
       "    <tr>\n",
       "      <th>Sales Qtr - Crore</th>\n",
       "      <td>0.620489</td>\n",
       "      <td>1.000000</td>\n",
       "    </tr>\n",
       "  </tbody>\n",
       "</table>\n",
       "</div>"
      ],
      "text/plain": [
       "                   Mar Cap - Crore  Sales Qtr - Crore\n",
       "Mar Cap - Crore           1.000000           0.620489\n",
       "Sales Qtr - Crore         0.620489           1.000000"
      ]
     },
     "execution_count": 33,
     "metadata": {},
     "output_type": "execute_result"
    }
   ],
   "source": [
    "data.corr()"
   ]
  },
  {
   "cell_type": "code",
   "execution_count": 34,
   "id": "118d3100",
   "metadata": {},
   "outputs": [
    {
     "data": {
      "text/html": [
       "<div>\n",
       "<style scoped>\n",
       "    .dataframe tbody tr th:only-of-type {\n",
       "        vertical-align: middle;\n",
       "    }\n",
       "\n",
       "    .dataframe tbody tr th {\n",
       "        vertical-align: top;\n",
       "    }\n",
       "\n",
       "    .dataframe thead th {\n",
       "        text-align: right;\n",
       "    }\n",
       "</style>\n",
       "<table border=\"1\" class=\"dataframe\">\n",
       "  <thead>\n",
       "    <tr style=\"text-align: right;\">\n",
       "      <th></th>\n",
       "      <th>Mar Cap - Crore</th>\n",
       "      <th>Sales Qtr - Crore</th>\n",
       "    </tr>\n",
       "  </thead>\n",
       "  <tbody>\n",
       "    <tr>\n",
       "      <th>Mar Cap - Crore</th>\n",
       "      <td>3.476674e+09</td>\n",
       "      <td>3.543343e+08</td>\n",
       "    </tr>\n",
       "    <tr>\n",
       "      <th>Sales Qtr - Crore</th>\n",
       "      <td>3.543343e+08</td>\n",
       "      <td>9.379814e+07</td>\n",
       "    </tr>\n",
       "  </tbody>\n",
       "</table>\n",
       "</div>"
      ],
      "text/plain": [
       "                   Mar Cap - Crore  Sales Qtr - Crore\n",
       "Mar Cap - Crore       3.476674e+09       3.543343e+08\n",
       "Sales Qtr - Crore     3.543343e+08       9.379814e+07"
      ]
     },
     "execution_count": 34,
     "metadata": {},
     "output_type": "execute_result"
    }
   ],
   "source": [
    "data.cov()"
   ]
  },
  {
   "cell_type": "markdown",
   "id": "bd2ba078",
   "metadata": {},
   "source": [
    "### data transformation"
   ]
  },
  {
   "cell_type": "code",
   "execution_count": 35,
   "id": "acde86fb",
   "metadata": {},
   "outputs": [
    {
     "data": {
      "text/plain": [
       "Mar Cap - Crore      5.613956\n",
       "Sales Qtr - Crore    7.112592\n",
       "dtype: float64"
      ]
     },
     "execution_count": 35,
     "metadata": {},
     "output_type": "execute_result"
    }
   ],
   "source": [
    "# to check whether our data curve is normal or not.\n",
    "data.skew()"
   ]
  },
  {
   "cell_type": "code",
   "execution_count": 36,
   "id": "95709f1a",
   "metadata": {},
   "outputs": [],
   "source": [
    "from sklearn.preprocessing import PowerTransformer"
   ]
  },
  {
   "cell_type": "code",
   "execution_count": 37,
   "id": "dec8b779",
   "metadata": {},
   "outputs": [],
   "source": [
    "pt=PowerTransformer(method='box-cox',standardize=True)\n",
    "data['Mar Cap - Crore']=pt.fit_transform(data[['Mar Cap - Crore']])\n",
    "data['Sales Qtr - Crore']=pt.fit_transform(data[['Sales Qtr - Crore']])"
   ]
  },
  {
   "cell_type": "code",
   "execution_count": 38,
   "id": "55b587f6",
   "metadata": {},
   "outputs": [
    {
     "data": {
      "text/plain": [
       "Mar Cap - Crore      0.173138\n",
       "Sales Qtr - Crore   -0.060923\n",
       "dtype: float64"
      ]
     },
     "execution_count": 38,
     "metadata": {},
     "output_type": "execute_result"
    }
   ],
   "source": [
    "data.skew() # skewness has reduced to acceptable range."
   ]
  },
  {
   "cell_type": "code",
   "execution_count": 39,
   "id": "532d78f3",
   "metadata": {},
   "outputs": [
    {
     "data": {
      "image/png": "[encoded data removed]",
      "text/plain": [
       "<Figure size 720x720 with 1 Axes>"
      ]
     },
     "metadata": {
      "needs_background": "light"
     },
     "output_type": "display_data"
    }
   ],
   "source": [
    "plt.figure(figsize=(10,10))\n",
    "sns.histplot(data=data,x='Mar Cap - Crore',kde=True)\n",
    "plt.show()"
   ]
  },
  {
   "cell_type": "code",
   "execution_count": 40,
   "id": "b1f09740",
   "metadata": {},
   "outputs": [
    {
     "data": {
      "image/png": "[encoded data removed]",
      "text/plain": [
       "<Figure size 720x720 with 1 Axes>"
      ]
     },
     "metadata": {
      "needs_background": "light"
     },
     "output_type": "display_data"
    }
   ],
   "source": [
    "plt.figure(figsize=(10,10))\n",
    "sns.histplot(data=data,x='Sales Qtr - Crore',kde=True)\n",
    "plt.show()"
   ]
  },
  {
   "cell_type": "code",
   "execution_count": 41,
   "id": "d6322909",
   "metadata": {},
   "outputs": [],
   "source": [
    "data.drop('Name',axis=1,inplace=True)\n",
    "# name column has 488 unique company names that's why i am dropping this column for further analysis.\n"
   ]
  },
  {
   "cell_type": "markdown",
   "id": "77914443",
   "metadata": {},
   "source": [
    "### features scaling "
   ]
  },
  {
   "cell_type": "code",
   "execution_count": 42,
   "id": "6d103ba7",
   "metadata": {},
   "outputs": [],
   "source": [
    "from sklearn.preprocessing import StandardScaler"
   ]
  },
  {
   "cell_type": "code",
   "execution_count": 43,
   "id": "2f80d78c",
   "metadata": {},
   "outputs": [
    {
     "data": {
      "text/html": [
       "<div>\n",
       "<style scoped>\n",
       "    .dataframe tbody tr th:only-of-type {\n",
       "        vertical-align: middle;\n",
       "    }\n",
       "\n",
       "    .dataframe tbody tr th {\n",
       "        vertical-align: top;\n",
       "    }\n",
       "\n",
       "    .dataframe thead th {\n",
       "        text-align: right;\n",
       "    }\n",
       "</style>\n",
       "<table border=\"1\" class=\"dataframe\">\n",
       "  <thead>\n",
       "    <tr style=\"text-align: right;\">\n",
       "      <th></th>\n",
       "      <th>Market_capital_in_crores</th>\n",
       "      <th>Sales_quarterly_in_crores</th>\n",
       "    </tr>\n",
       "  </thead>\n",
       "  <tbody>\n",
       "    <tr>\n",
       "      <th>0</th>\n",
       "      <td>2.147439</td>\n",
       "      <td>2.855483</td>\n",
       "    </tr>\n",
       "    <tr>\n",
       "      <th>1</th>\n",
       "      <td>2.140639</td>\n",
       "      <td>2.268473</td>\n",
       "    </tr>\n",
       "    <tr>\n",
       "      <th>2</th>\n",
       "      <td>2.108827</td>\n",
       "      <td>2.038231</td>\n",
       "    </tr>\n",
       "    <tr>\n",
       "      <th>3</th>\n",
       "      <td>2.014094</td>\n",
       "      <td>1.576053</td>\n",
       "    </tr>\n",
       "    <tr>\n",
       "      <th>4</th>\n",
       "      <td>1.987459</td>\n",
       "      <td>1.919058</td>\n",
       "    </tr>\n",
       "    <tr>\n",
       "      <th>...</th>\n",
       "      <td>...</td>\n",
       "      <td>...</td>\n",
       "    </tr>\n",
       "    <tr>\n",
       "      <th>483</th>\n",
       "      <td>-1.656342</td>\n",
       "      <td>-0.454184</td>\n",
       "    </tr>\n",
       "    <tr>\n",
       "      <th>484</th>\n",
       "      <td>-1.658308</td>\n",
       "      <td>-1.691650</td>\n",
       "    </tr>\n",
       "    <tr>\n",
       "      <th>485</th>\n",
       "      <td>-1.659461</td>\n",
       "      <td>-0.894361</td>\n",
       "    </tr>\n",
       "    <tr>\n",
       "      <th>486</th>\n",
       "      <td>-1.663782</td>\n",
       "      <td>0.678957</td>\n",
       "    </tr>\n",
       "    <tr>\n",
       "      <th>487</th>\n",
       "      <td>0.018346</td>\n",
       "      <td>-0.001162</td>\n",
       "    </tr>\n",
       "  </tbody>\n",
       "</table>\n",
       "<p>488 rows × 2 columns</p>\n",
       "</div>"
      ],
      "text/plain": [
       "     Market_capital_in_crores  Sales_quarterly_in_crores\n",
       "0                    2.147439                   2.855483\n",
       "1                    2.140639                   2.268473\n",
       "2                    2.108827                   2.038231\n",
       "3                    2.014094                   1.576053\n",
       "4                    1.987459                   1.919058\n",
       "..                        ...                        ...\n",
       "483                 -1.656342                  -0.454184\n",
       "484                 -1.658308                  -1.691650\n",
       "485                 -1.659461                  -0.894361\n",
       "486                 -1.663782                   0.678957\n",
       "487                  0.018346                  -0.001162\n",
       "\n",
       "[488 rows x 2 columns]"
      ]
     },
     "execution_count": 43,
     "metadata": {},
     "output_type": "execute_result"
    }
   ],
   "source": [
    "ss=StandardScaler()\n",
    "scaled_data=pd.DataFrame(ss.fit_transform(data),columns=['Market_capital_in_crores','Sales_quarterly_in_crores'])\n",
    "scaled_data"
   ]
  },
  {
   "cell_type": "code",
   "execution_count": 44,
   "id": "015286ae",
   "metadata": {},
   "outputs": [
    {
     "data": {
      "text/html": [
       "<div>\n",
       "<style scoped>\n",
       "    .dataframe tbody tr th:only-of-type {\n",
       "        vertical-align: middle;\n",
       "    }\n",
       "\n",
       "    .dataframe tbody tr th {\n",
       "        vertical-align: top;\n",
       "    }\n",
       "\n",
       "    .dataframe thead th {\n",
       "        text-align: right;\n",
       "    }\n",
       "</style>\n",
       "<table border=\"1\" class=\"dataframe\">\n",
       "  <thead>\n",
       "    <tr style=\"text-align: right;\">\n",
       "      <th></th>\n",
       "      <th>Market_capital_in_crores</th>\n",
       "      <th>Sales_quarterly_in_crores</th>\n",
       "    </tr>\n",
       "  </thead>\n",
       "  <tbody>\n",
       "    <tr>\n",
       "      <th>count</th>\n",
       "      <td>4.880000e+02</td>\n",
       "      <td>4.880000e+02</td>\n",
       "    </tr>\n",
       "    <tr>\n",
       "      <th>mean</th>\n",
       "      <td>-2.548266e-16</td>\n",
       "      <td>-2.269217e-16</td>\n",
       "    </tr>\n",
       "    <tr>\n",
       "      <th>std</th>\n",
       "      <td>1.001026e+00</td>\n",
       "      <td>1.001026e+00</td>\n",
       "    </tr>\n",
       "    <tr>\n",
       "      <th>min</th>\n",
       "      <td>-1.663782e+00</td>\n",
       "      <td>-3.922922e+00</td>\n",
       "    </tr>\n",
       "    <tr>\n",
       "      <th>25%</th>\n",
       "      <td>-8.799476e-01</td>\n",
       "      <td>-5.379357e-01</td>\n",
       "    </tr>\n",
       "    <tr>\n",
       "      <th>50%</th>\n",
       "      <td>1.834583e-02</td>\n",
       "      <td>-1.161676e-03</td>\n",
       "    </tr>\n",
       "    <tr>\n",
       "      <th>75%</th>\n",
       "      <td>8.080546e-01</td>\n",
       "      <td>4.252746e-01</td>\n",
       "    </tr>\n",
       "    <tr>\n",
       "      <th>max</th>\n",
       "      <td>2.147439e+00</td>\n",
       "      <td>2.902169e+00</td>\n",
       "    </tr>\n",
       "  </tbody>\n",
       "</table>\n",
       "</div>"
      ],
      "text/plain": [
       "       Market_capital_in_crores  Sales_quarterly_in_crores\n",
       "count              4.880000e+02               4.880000e+02\n",
       "mean              -2.548266e-16              -2.269217e-16\n",
       "std                1.001026e+00               1.001026e+00\n",
       "min               -1.663782e+00              -3.922922e+00\n",
       "25%               -8.799476e-01              -5.379357e-01\n",
       "50%                1.834583e-02              -1.161676e-03\n",
       "75%                8.080546e-01               4.252746e-01\n",
       "max                2.147439e+00               2.902169e+00"
      ]
     },
     "execution_count": 44,
     "metadata": {},
     "output_type": "execute_result"
    }
   ],
   "source": [
    "scaled_data.describe()"
   ]
  },
  {
   "cell_type": "markdown",
   "id": "c12bc383",
   "metadata": {},
   "source": [
    "### statistical analysis "
   ]
  },
  {
   "cell_type": "code",
   "execution_count": 45,
   "id": "2628f9dc",
   "metadata": {},
   "outputs": [],
   "source": [
    "# hypothesis checking\n",
    "# H0 : It suggests that there is no linear correlation between the two variables.\n",
    "# H1 : It suggests that there is linear correlation between the two variables."
   ]
  },
  {
   "cell_type": "code",
   "execution_count": 46,
   "id": "7017087d",
   "metadata": {},
   "outputs": [
    {
     "name": "stdout",
     "output_type": "stream",
     "text": [
      "the correlation value is 0.6138770805077658\n",
      "the p-value is 7.172891289985459e-52\n"
     ]
    }
   ],
   "source": [
    "#since there are 2 numerical features we  go for pearsons statistical test.\n",
    "corr_coeff,p_value=stats.pearsonr(scaled_data['Market_capital_in_crores'],scaled_data['Sales_quarterly_in_crores'])\n",
    "print('the correlation value is',corr_coeff)\n",
    "print('the p-value is' ,p_value)\n"
   ]
  },
  {
   "cell_type": "markdown",
   "id": "e1ed17bd",
   "metadata": {},
   "source": [
    "##### since the p-value is  less than level of significance 0.05(95% cofidence interval),hence we reject null hypothesis H0.and accept alternative hypothesis H1\n",
    "\n"
   ]
  },
  {
   "cell_type": "markdown",
   "id": "fb3111f1",
   "metadata": {},
   "source": [
    "###### There is linear correlation between the two variables. "
   ]
  },
  {
   "cell_type": "markdown",
   "id": "17e75b0a",
   "metadata": {},
   "source": [
    "### clustering "
   ]
  },
  {
   "cell_type": "code",
   "execution_count": 47,
   "id": "bc67b6ff",
   "metadata": {},
   "outputs": [],
   "source": [
    "from sklearn.cluster import KMeans"
   ]
  },
  {
   "cell_type": "code",
   "execution_count": 48,
   "id": "aecd261c",
   "metadata": {},
   "outputs": [
    {
     "name": "stdout",
     "output_type": "stream",
     "text": [
      "[483.4596802912372, 318.1010605549717, 216.85887149950693, 176.73269280294537, 147.805276166446, 124.23964499638082, 106.97759636072286, 95.20412857136925, 84.47090132628313, 75.96137758387485]\n"
     ]
    }
   ],
   "source": [
    "# within cluster sum of squares-wcss\n",
    "wcss= []\n",
    "for i in range(2,12):\n",
    "    kmeansmod=KMeans(n_clusters=i,random_state=40)\n",
    "    kmeansmod.fit(scaled_data)\n",
    "    wcss.append(kmeansmod.inertia_)\n",
    "print(wcss)"
   ]
  },
  {
   "cell_type": "code",
   "execution_count": 49,
   "id": "56525cd4",
   "metadata": {},
   "outputs": [
    {
     "data": {
      "image/png": "[encoded data removed]",
      "text/plain": [
       "<Figure size 432x288 with 1 Axes>"
      ]
     },
     "metadata": {
      "needs_background": "light"
     },
     "output_type": "display_data"
    }
   ],
   "source": [
    "#elbow plot\n",
    "plt.plot(range(2,12),wcss,marker='*')\n",
    "plt.title('Elbow plot for finanacial data analysis')\n",
    "plt.xlabel('Number of Clusters')\n",
    "plt.ylabel('wcss_measure')\n",
    "plt.show()"
   ]
  },
  {
   "cell_type": "code",
   "execution_count": 50,
   "id": "a357474c",
   "metadata": {},
   "outputs": [
    {
     "data": {
      "text/plain": [
       "array([ 8,  8,  8,  1,  8,  1,  8,  8,  8,  8,  8,  1,  8,  8,  8,  8,  1,\n",
       "        8,  1,  1,  1,  1,  8,  8,  1,  1,  1,  8,  1,  1,  1,  1,  1,  5,\n",
       "        1,  1,  1,  1,  8,  1,  8,  5,  5,  5,  1,  1,  1,  1,  1,  5,  5,\n",
       "        1,  5,  1,  8,  1,  5,  1,  1,  5,  5,  5,  5,  5,  5,  5,  5,  5,\n",
       "        5,  5,  5,  5,  5,  5,  5,  5,  5,  5,  5,  5,  5,  1,  5,  5,  5,\n",
       "        5,  5,  5,  1,  5,  5,  5,  5,  5,  5,  5,  5,  5,  5,  3,  5,  1,\n",
       "        5,  7,  5,  5,  7,  5,  5,  5,  5,  5,  7,  7,  9,  5,  5,  5,  7,\n",
       "        9,  5,  5,  8,  7,  9,  7,  5,  9,  7,  5,  5,  5,  5,  7,  9,  5,\n",
       "        5,  5,  7,  9,  9,  5,  7,  5,  9,  7,  7,  3,  7,  5,  5,  5,  7,\n",
       "        5,  7,  5,  5,  9,  5,  9,  9,  3,  9,  3,  9,  7,  9,  7,  3,  3,\n",
       "        3,  3,  3,  3,  3,  9,  3,  7,  3,  9,  9,  3,  9,  9,  9,  3,  9,\n",
       "        3,  9,  3,  3,  3,  7,  3,  3,  3,  3,  7,  7,  3,  3,  3,  7,  3,\n",
       "        7,  3,  3,  3,  9,  3,  7,  3,  9,  9,  3,  3,  3,  3,  3,  3,  3,\n",
       "        3,  3,  3,  3,  3,  3,  3,  3,  3,  3,  3,  3,  3,  3,  3,  7,  3,\n",
       "        3,  3,  3,  3,  3,  3,  3,  3,  7,  3,  3,  3,  2,  2,  2,  2,  3,\n",
       "        3,  2,  3,  3,  7,  3,  0,  3,  3,  2,  0,  3,  2,  2,  2,  3,  3,\n",
       "        3,  3,  2,  3,  3,  2,  2,  3,  2,  3,  0,  2,  3,  3,  2,  3,  3,\n",
       "        3,  2,  3,  3,  3,  3,  2,  4,  2,  2,  0,  2,  3,  2,  2,  3,  2,\n",
       "        0,  0,  3,  3,  2,  2,  2,  2, 10,  2,  0,  2,  0,  2,  0,  4, 10,\n",
       "        2,  2,  2,  2,  0,  0,  2,  2,  2, 10,  2,  0,  2,  0,  3, 10,  2,\n",
       "        2,  2,  2, 10, 10,  2,  2, 10, 10,  4,  2,  4,  2,  2,  2,  2,  0,\n",
       "        2,  2, 10,  4,  2, 10,  2, 10,  2,  2, 10, 10,  0, 10, 10, 10, 10,\n",
       "       10, 10,  0, 10, 10, 10, 10, 10, 10, 10, 10, 10, 10,  3, 10,  0, 10,\n",
       "       10, 10, 10, 10, 10, 10, 10, 10, 10, 10, 10, 10, 10, 10,  0,  0, 10,\n",
       "       10, 10,  0,  6,  4,  4, 10, 10,  4, 10, 10, 10,  4,  6, 10,  6, 10,\n",
       "        6,  6, 10, 10, 10,  6, 10,  4, 10,  4,  6,  6,  3,  4,  4, 10,  0,\n",
       "        6, 10,  0,  4, 10,  6, 10,  6,  6, 10,  6,  6,  6,  4,  6,  6,  4,\n",
       "       10,  4,  6,  4,  4,  6,  4,  6,  4,  6,  4,  6,  4,  4,  6,  6,  6,\n",
       "        4,  6,  4,  6, 10,  6,  6,  6,  4,  6,  0,  3])"
      ]
     },
     "execution_count": 50,
     "metadata": {},
     "output_type": "execute_result"
    }
   ],
   "source": [
    "kmeans_mod=KMeans(n_clusters=6,random_state=42)\n",
    "kmeansmod.fit(scaled_data)\n",
    "kmeansmod.labels_"
   ]
  },
  {
   "cell_type": "code",
   "execution_count": 51,
   "id": "0f108a0e",
   "metadata": {},
   "outputs": [
    {
     "data": {
      "text/html": [
       "<div>\n",
       "<style scoped>\n",
       "    .dataframe tbody tr th:only-of-type {\n",
       "        vertical-align: middle;\n",
       "    }\n",
       "\n",
       "    .dataframe tbody tr th {\n",
       "        vertical-align: top;\n",
       "    }\n",
       "\n",
       "    .dataframe thead th {\n",
       "        text-align: right;\n",
       "    }\n",
       "</style>\n",
       "<table border=\"1\" class=\"dataframe\">\n",
       "  <thead>\n",
       "    <tr style=\"text-align: right;\">\n",
       "      <th></th>\n",
       "      <th>Market_capital_in_crores</th>\n",
       "      <th>Sales_quarterly_in_crores</th>\n",
       "      <th>kmeans_label</th>\n",
       "    </tr>\n",
       "  </thead>\n",
       "  <tbody>\n",
       "    <tr>\n",
       "      <th>0</th>\n",
       "      <td>2.147439</td>\n",
       "      <td>2.855483</td>\n",
       "      <td>8</td>\n",
       "    </tr>\n",
       "    <tr>\n",
       "      <th>1</th>\n",
       "      <td>2.140639</td>\n",
       "      <td>2.268473</td>\n",
       "      <td>8</td>\n",
       "    </tr>\n",
       "    <tr>\n",
       "      <th>2</th>\n",
       "      <td>2.108827</td>\n",
       "      <td>2.038231</td>\n",
       "      <td>8</td>\n",
       "    </tr>\n",
       "    <tr>\n",
       "      <th>3</th>\n",
       "      <td>2.014094</td>\n",
       "      <td>1.576053</td>\n",
       "      <td>1</td>\n",
       "    </tr>\n",
       "    <tr>\n",
       "      <th>4</th>\n",
       "      <td>1.987459</td>\n",
       "      <td>1.919058</td>\n",
       "      <td>8</td>\n",
       "    </tr>\n",
       "    <tr>\n",
       "      <th>...</th>\n",
       "      <td>...</td>\n",
       "      <td>...</td>\n",
       "      <td>...</td>\n",
       "    </tr>\n",
       "    <tr>\n",
       "      <th>483</th>\n",
       "      <td>-1.656342</td>\n",
       "      <td>-0.454184</td>\n",
       "      <td>6</td>\n",
       "    </tr>\n",
       "    <tr>\n",
       "      <th>484</th>\n",
       "      <td>-1.658308</td>\n",
       "      <td>-1.691650</td>\n",
       "      <td>4</td>\n",
       "    </tr>\n",
       "    <tr>\n",
       "      <th>485</th>\n",
       "      <td>-1.659461</td>\n",
       "      <td>-0.894361</td>\n",
       "      <td>6</td>\n",
       "    </tr>\n",
       "    <tr>\n",
       "      <th>486</th>\n",
       "      <td>-1.663782</td>\n",
       "      <td>0.678957</td>\n",
       "      <td>0</td>\n",
       "    </tr>\n",
       "    <tr>\n",
       "      <th>487</th>\n",
       "      <td>0.018346</td>\n",
       "      <td>-0.001162</td>\n",
       "      <td>3</td>\n",
       "    </tr>\n",
       "  </tbody>\n",
       "</table>\n",
       "<p>488 rows × 3 columns</p>\n",
       "</div>"
      ],
      "text/plain": [
       "     Market_capital_in_crores  Sales_quarterly_in_crores  kmeans_label\n",
       "0                    2.147439                   2.855483             8\n",
       "1                    2.140639                   2.268473             8\n",
       "2                    2.108827                   2.038231             8\n",
       "3                    2.014094                   1.576053             1\n",
       "4                    1.987459                   1.919058             8\n",
       "..                        ...                        ...           ...\n",
       "483                 -1.656342                  -0.454184             6\n",
       "484                 -1.658308                  -1.691650             4\n",
       "485                 -1.659461                  -0.894361             6\n",
       "486                 -1.663782                   0.678957             0\n",
       "487                  0.018346                  -0.001162             3\n",
       "\n",
       "[488 rows x 3 columns]"
      ]
     },
     "execution_count": 51,
     "metadata": {},
     "output_type": "execute_result"
    }
   ],
   "source": [
    "scaled_data['kmeans_label']=kmeansmod.labels_\n",
    "scaled_data"
   ]
  },
  {
   "cell_type": "markdown",
   "id": "575cc877",
   "metadata": {},
   "source": [
    "### model building "
   ]
  },
  {
   "cell_type": "code",
   "execution_count": 52,
   "id": "9a42a4f7",
   "metadata": {},
   "outputs": [
    {
     "data": {
      "text/html": [
       "<div>\n",
       "<style scoped>\n",
       "    .dataframe tbody tr th:only-of-type {\n",
       "        vertical-align: middle;\n",
       "    }\n",
       "\n",
       "    .dataframe tbody tr th {\n",
       "        vertical-align: top;\n",
       "    }\n",
       "\n",
       "    .dataframe thead th {\n",
       "        text-align: right;\n",
       "    }\n",
       "</style>\n",
       "<table border=\"1\" class=\"dataframe\">\n",
       "  <thead>\n",
       "    <tr style=\"text-align: right;\">\n",
       "      <th></th>\n",
       "      <th>Market_capital_in_crores</th>\n",
       "      <th>Sales_quarterly_in_crores</th>\n",
       "      <th>kmeans_label</th>\n",
       "    </tr>\n",
       "  </thead>\n",
       "  <tbody>\n",
       "    <tr>\n",
       "      <th>0</th>\n",
       "      <td>2.147439</td>\n",
       "      <td>2.855483</td>\n",
       "      <td>8</td>\n",
       "    </tr>\n",
       "    <tr>\n",
       "      <th>1</th>\n",
       "      <td>2.140639</td>\n",
       "      <td>2.268473</td>\n",
       "      <td>8</td>\n",
       "    </tr>\n",
       "    <tr>\n",
       "      <th>2</th>\n",
       "      <td>2.108827</td>\n",
       "      <td>2.038231</td>\n",
       "      <td>8</td>\n",
       "    </tr>\n",
       "    <tr>\n",
       "      <th>3</th>\n",
       "      <td>2.014094</td>\n",
       "      <td>1.576053</td>\n",
       "      <td>1</td>\n",
       "    </tr>\n",
       "    <tr>\n",
       "      <th>4</th>\n",
       "      <td>1.987459</td>\n",
       "      <td>1.919058</td>\n",
       "      <td>8</td>\n",
       "    </tr>\n",
       "    <tr>\n",
       "      <th>...</th>\n",
       "      <td>...</td>\n",
       "      <td>...</td>\n",
       "      <td>...</td>\n",
       "    </tr>\n",
       "    <tr>\n",
       "      <th>483</th>\n",
       "      <td>-1.656342</td>\n",
       "      <td>-0.454184</td>\n",
       "      <td>6</td>\n",
       "    </tr>\n",
       "    <tr>\n",
       "      <th>484</th>\n",
       "      <td>-1.658308</td>\n",
       "      <td>-1.691650</td>\n",
       "      <td>4</td>\n",
       "    </tr>\n",
       "    <tr>\n",
       "      <th>485</th>\n",
       "      <td>-1.659461</td>\n",
       "      <td>-0.894361</td>\n",
       "      <td>6</td>\n",
       "    </tr>\n",
       "    <tr>\n",
       "      <th>486</th>\n",
       "      <td>-1.663782</td>\n",
       "      <td>0.678957</td>\n",
       "      <td>0</td>\n",
       "    </tr>\n",
       "    <tr>\n",
       "      <th>487</th>\n",
       "      <td>0.018346</td>\n",
       "      <td>-0.001162</td>\n",
       "      <td>3</td>\n",
       "    </tr>\n",
       "  </tbody>\n",
       "</table>\n",
       "<p>488 rows × 3 columns</p>\n",
       "</div>"
      ],
      "text/plain": [
       "     Market_capital_in_crores  Sales_quarterly_in_crores  kmeans_label\n",
       "0                    2.147439                   2.855483             8\n",
       "1                    2.140639                   2.268473             8\n",
       "2                    2.108827                   2.038231             8\n",
       "3                    2.014094                   1.576053             1\n",
       "4                    1.987459                   1.919058             8\n",
       "..                        ...                        ...           ...\n",
       "483                 -1.656342                  -0.454184             6\n",
       "484                 -1.658308                  -1.691650             4\n",
       "485                 -1.659461                  -0.894361             6\n",
       "486                 -1.663782                   0.678957             0\n",
       "487                  0.018346                  -0.001162             3\n",
       "\n",
       "[488 rows x 3 columns]"
      ]
     },
     "execution_count": 52,
     "metadata": {},
     "output_type": "execute_result"
    }
   ],
   "source": [
    "scaled_data"
   ]
  },
  {
   "cell_type": "code",
   "execution_count": 53,
   "id": "ee0d327e",
   "metadata": {},
   "outputs": [
    {
     "data": {
      "text/plain": [
       "3     99\n",
       "5     77\n",
       "10    67\n",
       "2     56\n",
       "1     34\n",
       "6     31\n",
       "7     28\n",
       "4     27\n",
       "9     25\n",
       "0     23\n",
       "8     21\n",
       "Name: kmeans_label, dtype: int64"
      ]
     },
     "execution_count": 53,
     "metadata": {},
     "output_type": "execute_result"
    }
   ],
   "source": [
    "#checking the balance/imbalance data  proportion\n",
    "scaled_data['kmeans_label'].value_counts()"
   ]
  },
  {
   "cell_type": "code",
   "execution_count": 54,
   "id": "f70c1ce7",
   "metadata": {},
   "outputs": [
    {
     "data": {
      "text/plain": [
       "3     0.202869\n",
       "5     0.157787\n",
       "10    0.137295\n",
       "2     0.114754\n",
       "1     0.069672\n",
       "6     0.063525\n",
       "7     0.057377\n",
       "4     0.055328\n",
       "9     0.051230\n",
       "0     0.047131\n",
       "8     0.043033\n",
       "Name: kmeans_label, dtype: float64"
      ]
     },
     "execution_count": 54,
     "metadata": {},
     "output_type": "execute_result"
    }
   ],
   "source": [
    "scaled_data['kmeans_label'].value_counts(normalize=True)"
   ]
  },
  {
   "cell_type": "code",
   "execution_count": 55,
   "id": "1d473a89",
   "metadata": {},
   "outputs": [
    {
     "name": "stdout",
     "output_type": "stream",
     "text": [
      "<class 'pandas.core.frame.DataFrame'>\n",
      "RangeIndex: 488 entries, 0 to 487\n",
      "Data columns (total 3 columns):\n",
      " #   Column                     Non-Null Count  Dtype  \n",
      "---  ------                     --------------  -----  \n",
      " 0   Market_capital_in_crores   488 non-null    float64\n",
      " 1   Sales_quarterly_in_crores  488 non-null    float64\n",
      " 2   kmeans_label               488 non-null    int32  \n",
      "dtypes: float64(2), int32(1)\n",
      "memory usage: 9.7 KB\n"
     ]
    }
   ],
   "source": [
    "scaled_data.info()"
   ]
  },
  {
   "cell_type": "code",
   "execution_count": 56,
   "id": "5d613aad",
   "metadata": {},
   "outputs": [
    {
     "data": {
      "image/png": "[encoded data removed]",
      "text/plain": [
       "<Figure size 432x288 with 1 Axes>"
      ]
     },
     "metadata": {
      "needs_background": "light"
     },
     "output_type": "display_data"
    }
   ],
   "source": [
    "#countplot\n",
    "sns.countplot(data=scaled_data,x='kmeans_label')\n",
    "plt.show()"
   ]
  },
  {
   "cell_type": "markdown",
   "id": "f5a0f6c4",
   "metadata": {},
   "source": [
    "### train test split "
   ]
  },
  {
   "cell_type": "code",
   "execution_count": 57,
   "id": "7c6cf737",
   "metadata": {},
   "outputs": [],
   "source": [
    "from sklearn.model_selection import train_test_split"
   ]
  },
  {
   "cell_type": "code",
   "execution_count": 58,
   "id": "a85946f3",
   "metadata": {},
   "outputs": [],
   "source": [
    "X=scaled_data.drop('kmeans_label',axis=1)\n",
    "Y=scaled_data['kmeans_label']\n",
    "X_train,X_test,Y_train,Y_test=train_test_split(X,Y,test_size=0.2,random_state=10)"
   ]
  },
  {
   "cell_type": "code",
   "execution_count": 59,
   "id": "ca9c8c0c",
   "metadata": {},
   "outputs": [],
   "source": [
    "pref_score=pd.DataFrame(columns=['Model','Accuracy','Recall','Precision','F1 score'])\n",
    "\n",
    "def per_measures(model,test,pred,average):\n",
    "    accuracy  =accuracy_score(test,pred)\n",
    "    f1score   =f1_score(test,pred,average=average)\n",
    "    recall    =recall_score(test,pred,average=average)\n",
    "    precision =precision_score(test,pred,average=average)\n",
    "\n",
    "    return (accuracy,recall,precision,f1score)"
   ]
  },
  {
   "cell_type": "code",
   "execution_count": 60,
   "id": "dc02f5b4",
   "metadata": {},
   "outputs": [],
   "source": [
    "def update_performance(name,model,test,pred,average):\n",
    "    global pref_score\n",
    "    pref_score=pref_score.append({'Model'       : name,\n",
    "                                  'Accuracy'    :per_measures(model,test,pred,average)[0],\n",
    "                                  'Recall'      :per_measures(model,test,pred,average)[1],\n",
    "                                  'Precision'   :per_measures(model,test,pred,average)[2],\n",
    "                                  'F1 score'    :per_measures(model,test,pred,average)[3]},\n",
    "                                ignore_index=True)"
   ]
  },
  {
   "cell_type": "code",
   "execution_count": 61,
   "id": "d17d3f49",
   "metadata": {},
   "outputs": [],
   "source": [
    "from sklearn.metrics import f1_score,recall_score,precision_score,accuracy_score"
   ]
  },
  {
   "cell_type": "markdown",
   "id": "122164fc",
   "metadata": {},
   "source": [
    "### Decision Tree "
   ]
  },
  {
   "cell_type": "code",
   "execution_count": 62,
   "id": "cf403ed1",
   "metadata": {},
   "outputs": [],
   "source": [
    "from sklearn.tree import DecisionTreeClassifier\n",
    "dt=DecisionTreeClassifier()"
   ]
  },
  {
   "cell_type": "code",
   "execution_count": 63,
   "id": "ad0c6ac3",
   "metadata": {},
   "outputs": [
    {
     "data": {
      "text/plain": [
       "DecisionTreeClassifier()"
      ]
     },
     "execution_count": 63,
     "metadata": {},
     "output_type": "execute_result"
    }
   ],
   "source": [
    "dt.fit(X_train,Y_train)"
   ]
  },
  {
   "cell_type": "code",
   "execution_count": 64,
   "id": "6a1c11bd",
   "metadata": {},
   "outputs": [
    {
     "data": {
      "text/plain": [
       "array([ 7,  0,  3,  3, 10,  2,  6, 10, 10, 10,  2,  5,  9,  3, 10,  2,  3,\n",
       "        9,  9,  9,  7,  5,  3,  9,  1,  2,  9,  1,  5,  2, 10,  2,  5, 10,\n",
       "        4, 10,  3,  1,  3,  5,  2,  0,  2, 10,  7,  5,  3,  7,  3,  5,  8,\n",
       "        5,  1,  2,  9, 10,  3,  4,  3,  7,  3,  3,  5,  2,  0,  5,  3,  8,\n",
       "        0, 10,  0,  5,  0,  3,  5,  9,  2,  8,  2,  5,  1,  6,  3,  5,  3,\n",
       "        5,  3,  1,  5,  3, 10,  3,  2,  3,  2,  6,  7,  2])"
      ]
     },
     "execution_count": 64,
     "metadata": {},
     "output_type": "execute_result"
    }
   ],
   "source": [
    "dt_p=dt.predict(X_test)\n",
    "dt_p"
   ]
  },
  {
   "cell_type": "code",
   "execution_count": 65,
   "id": "32e55867",
   "metadata": {},
   "outputs": [],
   "source": [
    "update_performance(name='DecisionTreeClassifier',model=dt,test=Y_test,pred=dt_p,average='weighted')"
   ]
  },
  {
   "cell_type": "code",
   "execution_count": 66,
   "id": "51c0a19a",
   "metadata": {},
   "outputs": [
    {
     "data": {
      "text/html": [
       "<div>\n",
       "<style scoped>\n",
       "    .dataframe tbody tr th:only-of-type {\n",
       "        vertical-align: middle;\n",
       "    }\n",
       "\n",
       "    .dataframe tbody tr th {\n",
       "        vertical-align: top;\n",
       "    }\n",
       "\n",
       "    .dataframe thead th {\n",
       "        text-align: right;\n",
       "    }\n",
       "</style>\n",
       "<table border=\"1\" class=\"dataframe\">\n",
       "  <thead>\n",
       "    <tr style=\"text-align: right;\">\n",
       "      <th></th>\n",
       "      <th>Model</th>\n",
       "      <th>Accuracy</th>\n",
       "      <th>Recall</th>\n",
       "      <th>Precision</th>\n",
       "      <th>F1 score</th>\n",
       "    </tr>\n",
       "  </thead>\n",
       "  <tbody>\n",
       "    <tr>\n",
       "      <th>0</th>\n",
       "      <td>DecisionTreeClassifier</td>\n",
       "      <td>0.959184</td>\n",
       "      <td>0.959184</td>\n",
       "      <td>0.964966</td>\n",
       "      <td>0.958679</td>\n",
       "    </tr>\n",
       "  </tbody>\n",
       "</table>\n",
       "</div>"
      ],
      "text/plain": [
       "                    Model  Accuracy    Recall  Precision  F1 score\n",
       "0  DecisionTreeClassifier  0.959184  0.959184   0.964966  0.958679"
      ]
     },
     "execution_count": 66,
     "metadata": {},
     "output_type": "execute_result"
    }
   ],
   "source": [
    "pref_score"
   ]
  },
  {
   "cell_type": "markdown",
   "id": "1392bc20",
   "metadata": {},
   "source": [
    "### XGBoost classifier "
   ]
  },
  {
   "cell_type": "code",
   "execution_count": 67,
   "id": "319e1fed",
   "metadata": {},
   "outputs": [],
   "source": [
    "from xgboost import XGBClassifier\n",
    "xgb=XGBClassifier()"
   ]
  },
  {
   "cell_type": "code",
   "execution_count": 68,
   "id": "fee292d9",
   "metadata": {},
   "outputs": [
    {
     "data": {
      "text/plain": [
       "XGBClassifier(base_score=0.5, booster='gbtree', callbacks=None,\n",
       "              colsample_bylevel=1, colsample_bynode=1, colsample_bytree=1,\n",
       "              early_stopping_rounds=None, enable_categorical=False,\n",
       "              eval_metric=None, gamma=0, gpu_id=-1, grow_policy='depthwise',\n",
       "              importance_type=None, interaction_constraints='',\n",
       "              learning_rate=0.300000012, max_bin=256, max_cat_to_onehot=4,\n",
       "              max_delta_step=0, max_depth=6, max_leaves=0, min_child_weight=1,\n",
       "              missing=nan, monotone_constraints='()', n_estimators=100,\n",
       "              n_jobs=0, num_parallel_tree=1, objective='multi:softprob',\n",
       "              predictor='auto', random_state=0, reg_alpha=0, ...)"
      ]
     },
     "execution_count": 68,
     "metadata": {},
     "output_type": "execute_result"
    }
   ],
   "source": [
    "xgb.fit(X_train,Y_train)"
   ]
  },
  {
   "cell_type": "code",
   "execution_count": 69,
   "id": "99d1216c",
   "metadata": {},
   "outputs": [
    {
     "data": {
      "text/plain": [
       "array([ 7,  0,  3,  3, 10,  2,  6, 10, 10, 10,  2,  5,  9,  3, 10,  2,  3,\n",
       "        9,  9,  9,  7,  5,  3,  9,  1,  2,  9,  1,  5,  2, 10,  2,  5, 10,\n",
       "        4, 10,  3,  1,  3,  5,  2,  0,  2, 10,  7,  5,  3,  7,  3,  5,  8,\n",
       "        5,  1,  2,  9, 10,  3,  4,  3,  7,  3,  3,  5,  2,  0,  5,  3,  8,\n",
       "        0, 10,  0,  5,  0,  3,  5,  9,  2,  8,  2,  5,  1,  6,  3,  5,  3,\n",
       "        5,  3,  1,  5,  3, 10,  3,  2,  3,  2,  6,  7,  2])"
      ]
     },
     "execution_count": 69,
     "metadata": {},
     "output_type": "execute_result"
    }
   ],
   "source": [
    "xgb_p=dt.predict(X_test)\n",
    "xgb_p"
   ]
  },
  {
   "cell_type": "code",
   "execution_count": 70,
   "id": "c4df401d",
   "metadata": {},
   "outputs": [],
   "source": [
    "update_performance(name='XGBoostClassifier',model=xgb,test=Y_test,pred=xgb_p,average='weighted')"
   ]
  },
  {
   "cell_type": "code",
   "execution_count": 71,
   "id": "43e82bdb",
   "metadata": {},
   "outputs": [
    {
     "data": {
      "text/html": [
       "<div>\n",
       "<style scoped>\n",
       "    .dataframe tbody tr th:only-of-type {\n",
       "        vertical-align: middle;\n",
       "    }\n",
       "\n",
       "    .dataframe tbody tr th {\n",
       "        vertical-align: top;\n",
       "    }\n",
       "\n",
       "    .dataframe thead th {\n",
       "        text-align: right;\n",
       "    }\n",
       "</style>\n",
       "<table border=\"1\" class=\"dataframe\">\n",
       "  <thead>\n",
       "    <tr style=\"text-align: right;\">\n",
       "      <th></th>\n",
       "      <th>Model</th>\n",
       "      <th>Accuracy</th>\n",
       "      <th>Recall</th>\n",
       "      <th>Precision</th>\n",
       "      <th>F1 score</th>\n",
       "    </tr>\n",
       "  </thead>\n",
       "  <tbody>\n",
       "    <tr>\n",
       "      <th>0</th>\n",
       "      <td>DecisionTreeClassifier</td>\n",
       "      <td>0.959184</td>\n",
       "      <td>0.959184</td>\n",
       "      <td>0.964966</td>\n",
       "      <td>0.958679</td>\n",
       "    </tr>\n",
       "    <tr>\n",
       "      <th>1</th>\n",
       "      <td>XGBoostClassifier</td>\n",
       "      <td>0.959184</td>\n",
       "      <td>0.959184</td>\n",
       "      <td>0.964966</td>\n",
       "      <td>0.958679</td>\n",
       "    </tr>\n",
       "  </tbody>\n",
       "</table>\n",
       "</div>"
      ],
      "text/plain": [
       "                    Model  Accuracy    Recall  Precision  F1 score\n",
       "0  DecisionTreeClassifier  0.959184  0.959184   0.964966  0.958679\n",
       "1       XGBoostClassifier  0.959184  0.959184   0.964966  0.958679"
      ]
     },
     "execution_count": 71,
     "metadata": {},
     "output_type": "execute_result"
    }
   ],
   "source": [
    "pref_score"
   ]
  },
  {
   "cell_type": "code",
   "execution_count": null,
   "id": "666b8b52",
   "metadata": {},
   "outputs": [],
   "source": []
  },
  {
   "cell_type": "code",
   "execution_count": null,
   "id": "afa1f6cc",
   "metadata": {},
   "outputs": [],
   "source": []
  }
 ],
 "metadata": {
  "kernelspec": {
   "display_name": "Python 3 (ipykernel)",
   "language": "python",
   "name": "python3"
  },
  "language_info": {
   "codemirror_mode": {
    "name": "ipython",
    "version": 3
   },
   "file_extension": ".py",
   "mimetype": "text/x-python",
   "name": "python",
   "nbconvert_exporter": "python",
   "pygments_lexer": "ipython3",
   "version": "3.9.7"
  }
 },
 "nbformat": 4,
 "nbformat_minor": 5
}
